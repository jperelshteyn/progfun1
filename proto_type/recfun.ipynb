{
 "cells": [
  {
   "cell_type": "code",
   "execution_count": null,
   "metadata": {
    "collapsed": true
   },
   "outputs": [],
   "source": [
    "def get_n_pascal_row(n, row=[1]):\n",
    "    if n == 0:\n",
    "        return row\n",
    "    else:\n",
    "        new_row = list()\n",
    "        for ix in range(len(row)-1):\n",
    "            new_cell = row[ix] + row[ix+1]\n",
    "            new_row.append(new_cell)\n",
    "        return get_n_pascal_row(n-1,[1]+new_row+[1])\n",
    "\n",
    "def pascal(c, r):\n",
    "    row = get_n_pascal_row(r)\n",
    "    return row[c]\n",
    "\n",
    "    def trim_front(string):\n",
    "    if string[0] in '()':\n",
    "        return string\n",
    "    else:\n",
    "        return trim(string[1:])\n",
    "        \n",
    "\n",
    "def is_balanced(string, opened=0):\n",
    "    if len(string) == 0:\n",
    "        return opened == 0\n",
    "    else:\n",
    "        string = trim_front(string)\n",
    "        head = string[0]\n",
    "        opened += 1 if head == '(' else -1\n",
    "        return is_balanced(string[1:], opened)\n",
    "\n",
    "\n",
    "def count_change(money, coins, combo=[]):\n",
    "    if money == 0:\n",
    "        print combo\n",
    "        return 1\n",
    "    elif money < 0:\n",
    "        return 0\n",
    "    else:\n",
    "        count = 0\n",
    "        for i, c in enumerate(coins):\n",
    "            remainder = money - c\n",
    "            count += count_change(remainder, coins[i:], combo + [c])\n",
    "        return count\n",
    "\n"
   ]
  }
 ],
 "metadata": {
  "kernelspec": {
   "display_name": "Python 2",
   "language": "python",
   "name": "python2"
  },
  "language_info": {
   "codemirror_mode": {
    "name": "ipython",
    "version": 2
   },
   "file_extension": ".py",
   "mimetype": "text/x-python",
   "name": "python",
   "nbconvert_exporter": "python",
   "pygments_lexer": "ipython2",
   "version": "2.7.11"
  }
 },
 "nbformat": 4,
 "nbformat_minor": 0
}
